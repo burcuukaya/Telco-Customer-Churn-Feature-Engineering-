{
 "cells": [
  {
   "cell_type": "code",
   "execution_count": 4,
   "metadata": {},
   "outputs": [],
   "source": [
    "#################  Telco Customer Churn Feature Engineering  ################# \n",
    "\n",
    "# Business Problem : Developing a  machine learning model to predict customer churn is aimed\n",
    "                     # Data analysis and feature engineering before developing the model\n",
    "    # MultipleLines : Info about the customer has more than one line (Yes, No, No phone service)\n",
    "    # InternetService : \n",
    "    \n",
    "    \n",
    "    \n",
    "# Data set :\n",
    "\n",
    "# SeniorCitizen : Info about the customer is elderly or not (1, 0)\n",
    "# Partner : Info about the customer has a partner, married or not (Yes, No)  \n",
    "# Dependents : Info about the customer has dependents to caregiving (Yes, No) (Child, mother, father, grandmother)\n",
    "# tenure : Monthly period of time that company has the customer\n",
    "# PhoneService :  Info about the customer has telephone service or not (Yes, No)\n",
    "# MultipleLines : Info about the customer has more than one line (Yes, No, No phone service)\n",
    "# InternetService : Customer's internet service provider (DSL, Fiber optic, No)\n",
    "# OnlineSecurity : Info about the customer has online security or not (Yes, No, no Internet service)\n",
    "# OnlineBackup : Info about the customer has an online backup (Yes, No, no Internet service)\n",
    "# DeviceProtection : Info about the customer has device protection (Yes, No, no Internet service)\n",
    "# TechSupport : Info about the customer has technical support or not (Yes, No, no Internet service)\n",
    "# StreamingTV : Info about the customer has a TV broadcast (Yes, No, no Internet service)\n",
    "              # Customer uses the Internet service to stream television programs from a third-party provider or not\n",
    "# StreamingMovies : Info about customer has streaming movies or not (Yes, No, no Internet service)\n",
    "                  # Whether the customer is using the Internet service to stream movies from a third-party provider\n",
    "# Contract : Duration of customer contract  (Month to month, One year, Two years)\n",
    "# PaperlessBilling : Whether the customer has a paperless invoice (Yes, No)\n",
    "# PaymentMethod : Customer's payment method (Electronic check, Postal check, Bank transfer (automatic), Credit card (automatic))\n",
    "# MonthlyCharges : Monthly charged from customer\n",
    "# TotalCharges : Total charged from customer\n",
    "# Churn : Whether the customer has left or not (Yes or No) Customers leaving in the last month or quarter\n",
    "\n",
    "\n",
    "#  A unique customer is in each index\n",
    "# Services for which customers are registered : phone, multiple lines, internet, online security, online backup, \n",
    "                                                # device protection, tech support, and streaming TV and movies\n",
    "#Demographic information about customers : gender, age range, and  partners and dependents\n",
    "\n",
    "\n",
    "import numpy as np\n",
    "import pandas as pd\n",
    "import matplotlib.pyplot as plt\n",
    "import seaborn as sns\n",
    "import catboost\n",
    "from catboost import CatBoostClassifier\n",
    "from sklearn.metrics import accuracy_score, precision_score, recall_score, f1_score,roc_auc_score\n",
    "from sklearn.model_selection import train_test_split\n",
    "from sklearn.model_selection import GridSearchCV, cross_validate\n",
    "from sklearn.preprocessing import LabelEncoder\n",
    "from sklearn.preprocessing import StandardScaler\n",
    "import warnings\n",
    "warnings.simplefilter(action=\"ignore\")"
   ]
  },
  {
   "cell_type": "code",
   "execution_count": 123,
   "metadata": {},
   "outputs": [],
   "source": [
    "pd.set_option('display.max_columns', None)\n",
    "pd.set_option('display.width', 170)\n",
    "pd.set_option('display.max_rows', None)\n",
    "pd.set_option('display.float_format', lambda x: '%.3f' % x)"
   ]
  },
  {
   "cell_type": "code",
   "execution_count": 124,
   "metadata": {},
   "outputs": [
    {
     "data": {
      "text/html": [
       "<div>\n",
       "<style scoped>\n",
       "    .dataframe tbody tr th:only-of-type {\n",
       "        vertical-align: middle;\n",
       "    }\n",
       "\n",
       "    .dataframe tbody tr th {\n",
       "        vertical-align: top;\n",
       "    }\n",
       "\n",
       "    .dataframe thead th {\n",
       "        text-align: right;\n",
       "    }\n",
       "</style>\n",
       "<table border=\"1\" class=\"dataframe\">\n",
       "  <thead>\n",
       "    <tr style=\"text-align: right;\">\n",
       "      <th></th>\n",
       "      <th>customerID</th>\n",
       "      <th>gender</th>\n",
       "      <th>SeniorCitizen</th>\n",
       "      <th>Partner</th>\n",
       "      <th>Dependents</th>\n",
       "      <th>tenure</th>\n",
       "      <th>PhoneService</th>\n",
       "      <th>MultipleLines</th>\n",
       "      <th>InternetService</th>\n",
       "      <th>OnlineSecurity</th>\n",
       "      <th>OnlineBackup</th>\n",
       "      <th>DeviceProtection</th>\n",
       "      <th>TechSupport</th>\n",
       "      <th>StreamingTV</th>\n",
       "      <th>StreamingMovies</th>\n",
       "      <th>Contract</th>\n",
       "      <th>PaperlessBilling</th>\n",
       "      <th>PaymentMethod</th>\n",
       "      <th>MonthlyCharges</th>\n",
       "      <th>TotalCharges</th>\n",
       "      <th>Churn</th>\n",
       "    </tr>\n",
       "  </thead>\n",
       "  <tbody>\n",
       "    <tr>\n",
       "      <th>0</th>\n",
       "      <td>7590-VHVEG</td>\n",
       "      <td>Female</td>\n",
       "      <td>0</td>\n",
       "      <td>Yes</td>\n",
       "      <td>No</td>\n",
       "      <td>1</td>\n",
       "      <td>No</td>\n",
       "      <td>No phone service</td>\n",
       "      <td>DSL</td>\n",
       "      <td>No</td>\n",
       "      <td>Yes</td>\n",
       "      <td>No</td>\n",
       "      <td>No</td>\n",
       "      <td>No</td>\n",
       "      <td>No</td>\n",
       "      <td>Month-to-month</td>\n",
       "      <td>Yes</td>\n",
       "      <td>Electronic check</td>\n",
       "      <td>29.850</td>\n",
       "      <td>29.85</td>\n",
       "      <td>No</td>\n",
       "    </tr>\n",
       "    <tr>\n",
       "      <th>1</th>\n",
       "      <td>5575-GNVDE</td>\n",
       "      <td>Male</td>\n",
       "      <td>0</td>\n",
       "      <td>No</td>\n",
       "      <td>No</td>\n",
       "      <td>34</td>\n",
       "      <td>Yes</td>\n",
       "      <td>No</td>\n",
       "      <td>DSL</td>\n",
       "      <td>Yes</td>\n",
       "      <td>No</td>\n",
       "      <td>Yes</td>\n",
       "      <td>No</td>\n",
       "      <td>No</td>\n",
       "      <td>No</td>\n",
       "      <td>One year</td>\n",
       "      <td>No</td>\n",
       "      <td>Mailed check</td>\n",
       "      <td>56.950</td>\n",
       "      <td>1889.5</td>\n",
       "      <td>No</td>\n",
       "    </tr>\n",
       "    <tr>\n",
       "      <th>2</th>\n",
       "      <td>3668-QPYBK</td>\n",
       "      <td>Male</td>\n",
       "      <td>0</td>\n",
       "      <td>No</td>\n",
       "      <td>No</td>\n",
       "      <td>2</td>\n",
       "      <td>Yes</td>\n",
       "      <td>No</td>\n",
       "      <td>DSL</td>\n",
       "      <td>Yes</td>\n",
       "      <td>Yes</td>\n",
       "      <td>No</td>\n",
       "      <td>No</td>\n",
       "      <td>No</td>\n",
       "      <td>No</td>\n",
       "      <td>Month-to-month</td>\n",
       "      <td>Yes</td>\n",
       "      <td>Mailed check</td>\n",
       "      <td>53.850</td>\n",
       "      <td>108.15</td>\n",
       "      <td>Yes</td>\n",
       "    </tr>\n",
       "    <tr>\n",
       "      <th>3</th>\n",
       "      <td>7795-CFOCW</td>\n",
       "      <td>Male</td>\n",
       "      <td>0</td>\n",
       "      <td>No</td>\n",
       "      <td>No</td>\n",
       "      <td>45</td>\n",
       "      <td>No</td>\n",
       "      <td>No phone service</td>\n",
       "      <td>DSL</td>\n",
       "      <td>Yes</td>\n",
       "      <td>No</td>\n",
       "      <td>Yes</td>\n",
       "      <td>Yes</td>\n",
       "      <td>No</td>\n",
       "      <td>No</td>\n",
       "      <td>One year</td>\n",
       "      <td>No</td>\n",
       "      <td>Bank transfer (automatic)</td>\n",
       "      <td>42.300</td>\n",
       "      <td>1840.75</td>\n",
       "      <td>No</td>\n",
       "    </tr>\n",
       "    <tr>\n",
       "      <th>4</th>\n",
       "      <td>9237-HQITU</td>\n",
       "      <td>Female</td>\n",
       "      <td>0</td>\n",
       "      <td>No</td>\n",
       "      <td>No</td>\n",
       "      <td>2</td>\n",
       "      <td>Yes</td>\n",
       "      <td>No</td>\n",
       "      <td>Fiber optic</td>\n",
       "      <td>No</td>\n",
       "      <td>No</td>\n",
       "      <td>No</td>\n",
       "      <td>No</td>\n",
       "      <td>No</td>\n",
       "      <td>No</td>\n",
       "      <td>Month-to-month</td>\n",
       "      <td>Yes</td>\n",
       "      <td>Electronic check</td>\n",
       "      <td>70.700</td>\n",
       "      <td>151.65</td>\n",
       "      <td>Yes</td>\n",
       "    </tr>\n",
       "  </tbody>\n",
       "</table>\n",
       "</div>"
      ],
      "text/plain": [
       "   customerID  gender  SeniorCitizen Partner Dependents  tenure PhoneService     MultipleLines InternetService OnlineSecurity OnlineBackup DeviceProtection TechSupport  \\\n",
       "0  7590-VHVEG  Female              0     Yes         No       1           No  No phone service             DSL             No          Yes               No          No   \n",
       "1  5575-GNVDE    Male              0      No         No      34          Yes                No             DSL            Yes           No              Yes          No   \n",
       "2  3668-QPYBK    Male              0      No         No       2          Yes                No             DSL            Yes          Yes               No          No   \n",
       "3  7795-CFOCW    Male              0      No         No      45           No  No phone service             DSL            Yes           No              Yes         Yes   \n",
       "4  9237-HQITU  Female              0      No         No       2          Yes                No     Fiber optic             No           No               No          No   \n",
       "\n",
       "  StreamingTV StreamingMovies        Contract PaperlessBilling              PaymentMethod  MonthlyCharges TotalCharges Churn  \n",
       "0          No              No  Month-to-month              Yes           Electronic check          29.850        29.85    No  \n",
       "1          No              No        One year               No               Mailed check          56.950       1889.5    No  \n",
       "2          No              No  Month-to-month              Yes               Mailed check          53.850       108.15   Yes  \n",
       "3          No              No        One year               No  Bank transfer (automatic)          42.300      1840.75    No  \n",
       "4          No              No  Month-to-month              Yes           Electronic check          70.700       151.65   Yes  "
      ]
     },
     "execution_count": 124,
     "metadata": {},
     "output_type": "execute_result"
    }
   ],
   "source": [
    "df = pd.read_csv(r\"C:\\Users\\burcu\\OneDrive\\Masaüstü\\DS Miiul\\5.Özellik Mühendisliği\\DK\\feature_engineering\\feature_engineering\\datasets\\Telco-Customer-Churn.csv\")\n",
    "df.head()"
   ]
  },
  {
   "cell_type": "code",
   "execution_count": 125,
   "metadata": {},
   "outputs": [
    {
     "data": {
      "text/plain": [
       "(7043, 21)"
      ]
     },
     "execution_count": 125,
     "metadata": {},
     "output_type": "execute_result"
    }
   ],
   "source": [
    "df.shape\n"
   ]
  },
  {
   "cell_type": "code",
   "execution_count": 126,
   "metadata": {},
   "outputs": [
    {
     "name": "stdout",
     "output_type": "stream",
     "text": [
      "<class 'pandas.core.frame.DataFrame'>\n",
      "RangeIndex: 7043 entries, 0 to 7042\n",
      "Data columns (total 21 columns):\n",
      " #   Column            Non-Null Count  Dtype  \n",
      "---  ------            --------------  -----  \n",
      " 0   customerID        7043 non-null   object \n",
      " 1   gender            7043 non-null   object \n",
      " 2   SeniorCitizen     7043 non-null   int64  \n",
      " 3   Partner           7043 non-null   object \n",
      " 4   Dependents        7043 non-null   object \n",
      " 5   tenure            7043 non-null   int64  \n",
      " 6   PhoneService      7043 non-null   object \n",
      " 7   MultipleLines     7043 non-null   object \n",
      " 8   InternetService   7043 non-null   object \n",
      " 9   OnlineSecurity    7043 non-null   object \n",
      " 10  OnlineBackup      7043 non-null   object \n",
      " 11  DeviceProtection  7043 non-null   object \n",
      " 12  TechSupport       7043 non-null   object \n",
      " 13  StreamingTV       7043 non-null   object \n",
      " 14  StreamingMovies   7043 non-null   object \n",
      " 15  Contract          7043 non-null   object \n",
      " 16  PaperlessBilling  7043 non-null   object \n",
      " 17  PaymentMethod     7043 non-null   object \n",
      " 18  MonthlyCharges    7043 non-null   float64\n",
      " 19  TotalCharges      7043 non-null   object \n",
      " 20  Churn             7043 non-null   object \n",
      "dtypes: float64(1), int64(2), object(18)\n",
      "memory usage: 1.1+ MB\n"
     ]
    }
   ],
   "source": [
    "df.info()"
   ]
  },
  {
   "cell_type": "code",
   "execution_count": 127,
   "metadata": {},
   "outputs": [],
   "source": [
    "# Converting TotalCharges into a numeric variable\n",
    "df[\"TotalCharges\"] = pd.to_numeric(df[\"TotalCharges\"], errors='coerce')"
   ]
  },
  {
   "cell_type": "code",
   "execution_count": 128,
   "metadata": {},
   "outputs": [],
   "source": [
    "# Converting Churn into a numeric variable\n",
    "df[\"Churn\"] = df[\"Churn\"].apply(lambda x : 1 if x == \"Yes\" else 0)"
   ]
  },
  {
   "cell_type": "code",
   "execution_count": 129,
   "metadata": {},
   "outputs": [
    {
     "name": "stdout",
     "output_type": "stream",
     "text": [
      "##################### Shape #####################\n",
      "(7043, 21)\n",
      "##################### Types #####################\n",
      "customerID           object\n",
      "gender               object\n",
      "SeniorCitizen         int64\n",
      "Partner              object\n",
      "Dependents           object\n",
      "tenure                int64\n",
      "PhoneService         object\n",
      "MultipleLines        object\n",
      "InternetService      object\n",
      "OnlineSecurity       object\n",
      "OnlineBackup         object\n",
      "DeviceProtection     object\n",
      "TechSupport          object\n",
      "StreamingTV          object\n",
      "StreamingMovies      object\n",
      "Contract             object\n",
      "PaperlessBilling     object\n",
      "PaymentMethod        object\n",
      "MonthlyCharges      float64\n",
      "TotalCharges        float64\n",
      "Churn                 int64\n",
      "dtype: object\n",
      "##################### Head #####################\n",
      "   customerID  gender  SeniorCitizen Partner Dependents  tenure PhoneService     MultipleLines InternetService OnlineSecurity OnlineBackup DeviceProtection TechSupport  \\\n",
      "0  7590-VHVEG  Female              0     Yes         No       1           No  No phone service             DSL             No          Yes               No          No   \n",
      "1  5575-GNVDE    Male              0      No         No      34          Yes                No             DSL            Yes           No              Yes          No   \n",
      "2  3668-QPYBK    Male              0      No         No       2          Yes                No             DSL            Yes          Yes               No          No   \n",
      "3  7795-CFOCW    Male              0      No         No      45           No  No phone service             DSL            Yes           No              Yes         Yes   \n",
      "4  9237-HQITU  Female              0      No         No       2          Yes                No     Fiber optic             No           No               No          No   \n",
      "\n",
      "  StreamingTV StreamingMovies        Contract PaperlessBilling              PaymentMethod  MonthlyCharges  TotalCharges  Churn  \n",
      "0          No              No  Month-to-month              Yes           Electronic check          29.850        29.850      0  \n",
      "1          No              No        One year               No               Mailed check          56.950      1889.500      0  \n",
      "2          No              No  Month-to-month              Yes               Mailed check          53.850       108.150      1  \n",
      "3          No              No        One year               No  Bank transfer (automatic)          42.300      1840.750      0  \n",
      "4          No              No  Month-to-month              Yes           Electronic check          70.700       151.650      1  \n",
      "##################### Tail #####################\n",
      "      customerID  gender  SeniorCitizen Partner Dependents  tenure PhoneService     MultipleLines InternetService OnlineSecurity OnlineBackup DeviceProtection  \\\n",
      "7038  6840-RESVB    Male              0     Yes        Yes      24          Yes               Yes             DSL            Yes           No              Yes   \n",
      "7039  2234-XADUH  Female              0     Yes        Yes      72          Yes               Yes     Fiber optic             No          Yes              Yes   \n",
      "7040  4801-JZAZL  Female              0     Yes        Yes      11           No  No phone service             DSL            Yes           No               No   \n",
      "7041  8361-LTMKD    Male              1     Yes         No       4          Yes               Yes     Fiber optic             No           No               No   \n",
      "7042  3186-AJIEK    Male              0      No         No      66          Yes                No     Fiber optic            Yes           No              Yes   \n",
      "\n",
      "     TechSupport StreamingTV StreamingMovies        Contract PaperlessBilling              PaymentMethod  MonthlyCharges  TotalCharges  Churn  \n",
      "7038         Yes         Yes             Yes        One year              Yes               Mailed check          84.800      1990.500      0  \n",
      "7039          No         Yes             Yes        One year              Yes    Credit card (automatic)         103.200      7362.900      0  \n",
      "7040          No          No              No  Month-to-month              Yes           Electronic check          29.600       346.450      0  \n",
      "7041          No          No              No  Month-to-month              Yes               Mailed check          74.400       306.600      1  \n",
      "7042         Yes         Yes             Yes        Two year              Yes  Bank transfer (automatic)         105.650      6844.500      0  \n",
      "##################### NA #####################\n",
      "customerID           0\n",
      "gender               0\n",
      "SeniorCitizen        0\n",
      "Partner              0\n",
      "Dependents           0\n",
      "tenure               0\n",
      "PhoneService         0\n",
      "MultipleLines        0\n",
      "InternetService      0\n",
      "OnlineSecurity       0\n",
      "OnlineBackup         0\n",
      "DeviceProtection     0\n",
      "TechSupport          0\n",
      "StreamingTV          0\n",
      "StreamingMovies      0\n",
      "Contract             0\n",
      "PaperlessBilling     0\n",
      "PaymentMethod        0\n",
      "MonthlyCharges       0\n",
      "TotalCharges        11\n",
      "Churn                0\n",
      "dtype: int64\n",
      "##################### Quantiles #####################\n",
      "                0.000  0.050    0.500    0.950    0.990    1.000\n",
      "SeniorCitizen   0.000  0.000    0.000    1.000    1.000    1.000\n",
      "tenure          0.000  1.000   29.000   72.000   72.000   72.000\n",
      "MonthlyCharges 18.250 19.650   70.350  107.400  114.729  118.750\n",
      "TotalCharges   18.800 49.605 1397.475 6923.590 8039.883 8684.800\n",
      "Churn           0.000  0.000    0.000    1.000    1.000    1.000\n"
     ]
    }
   ],
   "source": [
    "################ TASK 1 : EDA\n",
    "\n",
    "def check_df(dataframe, head=5):\n",
    "    print(\"##################### Shape #####################\")\n",
    "    print(dataframe.shape)\n",
    "    print(\"##################### Types #####################\")\n",
    "    print(dataframe.dtypes)\n",
    "    print(\"##################### Head #####################\")\n",
    "    print(dataframe.head(head))\n",
    "    print(\"##################### Tail #####################\")\n",
    "    print(dataframe.tail(head))\n",
    "    print(\"##################### NA #####################\")\n",
    "    print(dataframe.isnull().sum())\n",
    "    print(\"##################### Quantiles #####################\")\n",
    "    print(dataframe.quantile([0, 0.05, 0.50, 0.95, 0.99, 1]).T)\n",
    "\n",
    "check_df(df)"
   ]
  },
  {
   "cell_type": "code",
   "execution_count": 130,
   "metadata": {},
   "outputs": [
    {
     "name": "stdout",
     "output_type": "stream",
     "text": [
      "Observations: 7043\n",
      "Variables: 21\n",
      "cat_cols: 17\n",
      "num_cols: 3\n",
      "cat_but_car: 1\n",
      "num_but_cat: 2\n"
     ]
    }
   ],
   "source": [
    "# Capture of numerical and categorical variables \n",
    "\n",
    "def grab_col_names(dataframe, cat_th=10, car_th=20):\n",
    "    \n",
    "    # cat_cols, cat_but_car\n",
    "    cat_cols = [col for col in dataframe.columns if dataframe[col].dtypes == \"O\"]\n",
    "    num_but_cat = [col for col in dataframe.columns if dataframe[col].nunique() < cat_th and dataframe[col].dtypes != \"O\"]\n",
    "    cat_but_car = [col for col in dataframe.columns if dataframe[col].nunique() > car_th and dataframe[col].dtypes == \"O\"]\n",
    "    cat_cols = cat_cols + num_but_cat\n",
    "    cat_cols = [col for col in cat_cols if col not in cat_but_car]\n",
    "\n",
    "    # num_cols\n",
    "    num_cols = [col for col in dataframe.columns if dataframe[col].dtypes != \"O\"]\n",
    "    num_cols = [col for col in num_cols if col not in num_but_cat]\n",
    "\n",
    "    print(f\"Observations: {dataframe.shape[0]}\")\n",
    "    print(f\"Variables: {dataframe.shape[1]}\")\n",
    "    print(f'cat_cols: {len(cat_cols)}')\n",
    "    print(f'num_cols: {len(num_cols)}')\n",
    "    print(f'cat_but_car: {len(cat_but_car)}')\n",
    "    print(f'num_but_cat: {len(num_but_cat)}')\n",
    "\n",
    "    return cat_cols, num_cols, cat_but_car\n",
    "\n",
    "\n",
    "cat_cols, num_cols, cat_but_car = grab_col_names(df)"
   ]
  },
  {
   "cell_type": "code",
   "execution_count": 131,
   "metadata": {},
   "outputs": [],
   "source": [
    "# Analysis of categorical variables\n",
    "\n",
    "def cat_summary(dataframe, col_name, plot=False):\n",
    "    print(pd.DataFrame({col_name: dataframe[col_name].value_counts(),\n",
    "                        \"Ratio\": 100 * dataframe[col_name].value_counts() / len(dataframe)}))\n",
    "    print(\"##########################################\")\n",
    "    if plot:\n",
    "        sns.countplot(x=dataframe[col_name], data=dataframe)\n",
    "        plt.show()"
   ]
  },
  {
   "cell_type": "code",
   "execution_count": 132,
   "metadata": {},
   "outputs": [
    {
     "name": "stdout",
     "output_type": "stream",
     "text": [
      "        gender  Ratio\n",
      "Male      3555 50.476\n",
      "Female    3488 49.524\n",
      "##########################################\n"
     ]
    },
    {
     "data": {
      "image/png": "[encoded data removed]",
      "text/plain": [
       "<Figure size 432x288 with 1 Axes>"
      ]
     },
     "metadata": {
      "needs_background": "light"
     },
     "output_type": "display_data"
    },
    {
     "name": "stdout",
     "output_type": "stream",
     "text": [
      "     Partner  Ratio\n",
      "No      3641 51.697\n",
      "Yes     3402 48.303\n",
      "##########################################\n"
     ]
    },
    {
     "data": {
      "image/png": "[encoded data removed]",
      "text/plain": [
       "<Figure size 432x288 with 1 Axes>"
      ]
     },
     "metadata": {
      "needs_background": "light"
     },
     "output_type": "display_data"
    },
    {
     "name": "stdout",
     "output_type": "stream",
     "text": [
      "     Dependents  Ratio\n",
      "No         4933 70.041\n",
      "Yes        2110 29.959\n",
      "##########################################\n"
     ]
    },
    {
     "data": {
      "image/png": "[encoded data removed]",
      "text/plain": [
       "<Figure size 432x288 with 1 Axes>"
      ]
     },
     "metadata": {
      "needs_background": "light"
     },
     "output_type": "display_data"
    },
    {
     "name": "stdout",
     "output_type": "stream",
     "text": [
      "     PhoneService  Ratio\n",
      "Yes          6361 90.317\n",
      "No            682  9.683\n",
      "##########################################\n"
     ]
    },
    {
     "data": {
      "image/png": "[encoded data removed]",
      "text/plain": [
       "<Figure size 432x288 with 1 Axes>"
      ]
     },
     "metadata": {
      "needs_background": "light"
     },
     "output_type": "display_data"
    },
    {
     "name": "stdout",
     "output_type": "stream",
     "text": [
      "                  MultipleLines  Ratio\n",
      "No                         3390 48.133\n",
      "Yes                        2971 42.184\n",
      "No phone service            682  9.683\n",
      "##########################################\n"
     ]
    },
    {
     "data": {
      "image/png": "[encoded data removed]",
      "text/plain": [
       "<Figure size 432x288 with 1 Axes>"
      ]
     },
     "metadata": {
      "needs_background": "light"
     },
     "output_type": "display_data"
    },
    {
     "name": "stdout",
     "output_type": "stream",
     "text": [
      "             InternetService  Ratio\n",
      "Fiber optic             3096 43.959\n",
      "DSL                     2421 34.375\n",
      "No                      1526 21.667\n",
      "##########################################\n"
     ]
    },
    {
     "data": {
      "image/png": "[encoded data removed]",
      "text/plain": [
       "<Figure size 432x288 with 1 Axes>"
      ]
     },
     "metadata": {
      "needs_background": "light"
     },
     "output_type": "display_data"
    },
    {
     "name": "stdout",
     "output_type": "stream",
     "text": [
      "                     OnlineSecurity  Ratio\n",
      "No                             3498 49.666\n",
      "Yes                            2019 28.667\n",
      "No internet service            1526 21.667\n",
      "##########################################\n"
     ]
    },
    {
     "data": {
      "image/png": "[encoded data removed]",
      "text/plain": [
       "<Figure size 432x288 with 1 Axes>"
      ]
     },
     "metadata": {
      "needs_background": "light"
     },
     "output_type": "display_data"
    },
    {
     "name": "stdout",
     "output_type": "stream",
     "text": [
      "                     OnlineBackup  Ratio\n",
      "No                           3088 43.845\n",
      "Yes                          2429 34.488\n",
      "No internet service          1526 21.667\n",
      "##########################################\n"
     ]
    },
    {
     "data": {
      "image/png": "[encoded data removed]",
      "text/plain": [
       "<Figure size 432x288 with 1 Axes>"
      ]
     },
     "metadata": {
      "needs_background": "light"
     },
     "output_type": "display_data"
    },
    {
     "name": "stdout",
     "output_type": "stream",
     "text": [
      "                     DeviceProtection  Ratio\n",
      "No                               3095 43.944\n",
      "Yes                              2422 34.389\n",
      "No internet service              1526 21.667\n",
      "##########################################\n"
     ]
    },
    {
     "data": {
      "image/png": "[encoded data removed]",
      "text/plain": [
       "<Figure size 432x288 with 1 Axes>"
      ]
     },
     "metadata": {
      "needs_background": "light"
     },
     "output_type": "display_data"
    },
    {
     "name": "stdout",
     "output_type": "stream",
     "text": [
      "                     TechSupport  Ratio\n",
      "No                          3473 49.311\n",
      "Yes                         2044 29.022\n",
      "No internet service         1526 21.667\n",
      "##########################################\n"
     ]
    },
    {
     "data": {
      "image/png": "[encoded data removed]",
      "text/plain": [
       "<Figure size 432x288 with 1 Axes>"
      ]
     },
     "metadata": {
      "needs_background": "light"
     },
     "output_type": "display_data"
    },
    {
     "name": "stdout",
     "output_type": "stream",
     "text": [
      "                     StreamingTV  Ratio\n",
      "No                          2810 39.898\n",
      "Yes                         2707 38.435\n",
      "No internet service         1526 21.667\n",
      "##########################################\n"
     ]
    },
    {
     "data": {
      "image/png": "[encoded data removed]",
      "text/plain": [
       "<Figure size 432x288 with 1 Axes>"
      ]
     },
     "metadata": {
      "needs_background": "light"
     },
     "output_type": "display_data"
    },
    {
     "name": "stdout",
     "output_type": "stream",
     "text": [
      "                     StreamingMovies  Ratio\n",
      "No                              2785 39.543\n",
      "Yes                             2732 38.790\n",
      "No internet service             1526 21.667\n",
      "##########################################\n"
     ]
    },
    {
     "data": {
      "image/png": "[encoded data removed]",
      "text/plain": [
       "<Figure size 432x288 with 1 Axes>"
      ]
     },
     "metadata": {
      "needs_background": "light"
     },
     "output_type": "display_data"
    },
    {
     "name": "stdout",
     "output_type": "stream",
     "text": [
      "                Contract  Ratio\n",
      "Month-to-month      3875 55.019\n",
      "Two year            1695 24.066\n",
      "One year            1473 20.914\n",
      "##########################################\n"
     ]
    },
    {
     "data": {
      "image/png": "[encoded data removed]",
      "text/plain": [
       "<Figure size 432x288 with 1 Axes>"
      ]
     },
     "metadata": {
      "needs_background": "light"
     },
     "output_type": "display_data"
    },
    {
     "name": "stdout",
     "output_type": "stream",
     "text": [
      "     PaperlessBilling  Ratio\n",
      "Yes              4171 59.222\n",
      "No               2872 40.778\n",
      "##########################################\n"
     ]
    },
    {
     "data": {
      "image/png": "[encoded data removed]",
      "text/plain": [
       "<Figure size 432x288 with 1 Axes>"
      ]
     },
     "metadata": {
      "needs_background": "light"
     },
     "output_type": "display_data"
    },
    {
     "name": "stdout",
     "output_type": "stream",
     "text": [
      "                           PaymentMethod  Ratio\n",
      "Electronic check                    2365 33.579\n",
      "Mailed check                        1612 22.888\n",
      "Bank transfer (automatic)           1544 21.922\n",
      "Credit card (automatic)             1522 21.610\n",
      "##########################################\n"
     ]
    },
    {
     "data": {
      "image/png": "[encoded data removed]",
      "text/plain": [
       "<Figure size 432x288 with 1 Axes>"
      ]
     },
     "metadata": {
      "needs_background": "light"
     },
     "output_type": "display_data"
    },
    {
     "name": "stdout",
     "output_type": "stream",
     "text": [
      "   SeniorCitizen  Ratio\n",
      "0           5901 83.785\n",
      "1           1142 16.215\n",
      "##########################################\n"
     ]
    },
    {
     "data": {
      "image/png": "[encoded data removed]",
      "text/plain": [
       "<Figure size 432x288 with 1 Axes>"
      ]
     },
     "metadata": {
      "needs_background": "light"
     },
     "output_type": "display_data"
    },
    {
     "name": "stdout",
     "output_type": "stream",
     "text": [
      "   Churn  Ratio\n",
      "0   5174 73.463\n",
      "1   1869 26.537\n",
      "##########################################\n"
     ]
    },
    {
     "data": {
      "image/png": "[encoded data removed]",
      "text/plain": [
       "<Figure size 432x288 with 1 Axes>"
      ]
     },
     "metadata": {
      "needs_background": "light"
     },
     "output_type": "display_data"
    }
   ],
   "source": [
    "for col in cat_cols:\n",
    "    cat_summary(df, col, plot=True)"
   ]
  },
  {
   "cell_type": "code",
   "execution_count": 133,
   "metadata": {},
   "outputs": [
    {
     "name": "stdout",
     "output_type": "stream",
     "text": [
      "count   7043.000\n",
      "mean      32.371\n",
      "std       24.559\n",
      "min        0.000\n",
      "5%         1.000\n",
      "10%        2.000\n",
      "20%        6.000\n",
      "30%       12.000\n",
      "40%       20.000\n",
      "50%       29.000\n",
      "60%       40.000\n",
      "70%       50.000\n",
      "80%       60.000\n",
      "90%       69.000\n",
      "95%       72.000\n",
      "99%       72.000\n",
      "max       72.000\n",
      "Name: tenure, dtype: float64\n"
     ]
    },
    {
     "data": {
      "image/png": "[encoded data removed]",
      "text/plain": [
       "<Figure size 432x288 with 1 Axes>"
      ]
     },
     "metadata": {
      "needs_background": "light"
     },
     "output_type": "display_data"
    },
    {
     "name": "stdout",
     "output_type": "stream",
     "text": [
      "count   7043.000\n",
      "mean      64.762\n",
      "std       30.090\n",
      "min       18.250\n",
      "5%        19.650\n",
      "10%       20.050\n",
      "20%       25.050\n",
      "30%       45.850\n",
      "40%       58.830\n",
      "50%       70.350\n",
      "60%       79.100\n",
      "70%       85.500\n",
      "80%       94.250\n",
      "90%      102.600\n",
      "95%      107.400\n",
      "99%      114.729\n",
      "max      118.750\n",
      "Name: MonthlyCharges, dtype: float64\n"
     ]
    },
    {
     "data": {
      "image/png": "[encoded data removed]",
      "text/plain": [
       "<Figure size 432x288 with 1 Axes>"
      ]
     },
     "metadata": {
      "needs_background": "light"
     },
     "output_type": "display_data"
    },
    {
     "name": "stdout",
     "output_type": "stream",
     "text": [
      "count   7032.000\n",
      "mean    2283.300\n",
      "std     2266.771\n",
      "min       18.800\n",
      "5%        49.605\n",
      "10%       84.600\n",
      "20%      267.070\n",
      "30%      551.995\n",
      "40%      944.170\n",
      "50%     1397.475\n",
      "60%     2048.950\n",
      "70%     3141.130\n",
      "80%     4475.410\n",
      "90%     5976.640\n",
      "95%     6923.590\n",
      "99%     8039.883\n",
      "max     8684.800\n",
      "Name: TotalCharges, dtype: float64\n"
     ]
    },
    {
     "data": {
      "image/png": "[encoded data removed]",
      "text/plain": [
       "<Figure size 432x288 with 1 Axes>"
      ]
     },
     "metadata": {
      "needs_background": "light"
     },
     "output_type": "display_data"
    }
   ],
   "source": [
    "# Analysis of numerical variables\n",
    "\n",
    "def num_summary(dataframe, numerical_col, plot=False):\n",
    "    quantiles = [0.05, 0.10, 0.20, 0.30, 0.40, 0.50, 0.60, 0.70, 0.80, 0.90, 0.95, 0.99]\n",
    "    print(dataframe[numerical_col].describe(quantiles).T)\n",
    "\n",
    "    if plot:\n",
    "        dataframe[numerical_col].hist(bins=20)\n",
    "        plt.xlabel(numerical_col)\n",
    "        plt.title(numerical_col)\n",
    "        plt.show()\n",
    "\n",
    "for col in num_cols:\n",
    "    num_summary(df, col, plot=True)"
   ]
  },
  {
   "cell_type": "code",
   "execution_count": 134,
   "metadata": {},
   "outputs": [
    {
     "name": "stdout",
     "output_type": "stream",
     "text": [
      "       tenure\n",
      "Churn        \n",
      "0      37.570\n",
      "1      17.979\n",
      "\n",
      "\n",
      "       MonthlyCharges\n",
      "Churn                \n",
      "0              61.265\n",
      "1              74.441\n",
      "\n",
      "\n",
      "       TotalCharges\n",
      "Churn              \n",
      "0          2555.344\n",
      "1          1531.796\n",
      "\n",
      "\n"
     ]
    }
   ],
   "source": [
    "# Analysis of numerical variables according to target variable\n",
    "\n",
    "def target_summary_with_num(dataframe, target, numerical_col):\n",
    "    print(dataframe.groupby(target).agg({numerical_col: \"mean\"}), end=\"\\n\\n\\n\")\n",
    "\n",
    "for col in num_cols:\n",
    "    target_summary_with_num(df, \"Churn\", col)"
   ]
  },
  {
   "cell_type": "code",
   "execution_count": 135,
   "metadata": {},
   "outputs": [
    {
     "name": "stdout",
     "output_type": "stream",
     "text": [
      "gender\n",
      "        TARGET_MEAN  Count  Ratio\n",
      "Female        0.269   3488 49.524\n",
      "Male          0.262   3555 50.476\n",
      "\n",
      "\n",
      "Partner\n",
      "         TARGET_MEAN  Count  Ratio\n",
      "Partner                           \n",
      "No             0.330   3641 51.697\n",
      "Yes            0.197   3402 48.303\n",
      "\n",
      "\n",
      "Dependents\n",
      "            TARGET_MEAN  Count  Ratio\n",
      "Dependents                           \n",
      "No                0.313   4933 70.041\n",
      "Yes               0.155   2110 29.959\n",
      "\n",
      "\n",
      "PhoneService\n",
      "     TARGET_MEAN  Count  Ratio\n",
      "No         0.249    682  9.683\n",
      "Yes        0.267   6361 90.317\n",
      "\n",
      "\n",
      "MultipleLines\n",
      "                  TARGET_MEAN  Count  Ratio\n",
      "No                      0.250   3390 48.133\n",
      "No phone service        0.249    682  9.683\n",
      "Yes                     0.286   2971 42.184\n",
      "\n",
      "\n",
      "InternetService\n",
      "             TARGET_MEAN  Count  Ratio\n",
      "DSL                0.190   2421 34.375\n",
      "Fiber optic        0.419   3096 43.959\n",
      "No                 0.074   1526 21.667\n",
      "\n",
      "\n",
      "OnlineSecurity\n",
      "                     TARGET_MEAN  Count  Ratio\n",
      "No                         0.418   3498 49.666\n",
      "No internet service        0.074   1526 21.667\n",
      "Yes                        0.146   2019 28.667\n",
      "\n",
      "\n",
      "OnlineBackup\n",
      "                     TARGET_MEAN  Count  Ratio\n",
      "No                         0.399   3088 43.845\n",
      "No internet service        0.074   1526 21.667\n",
      "Yes                        0.215   2429 34.488\n",
      "\n",
      "\n",
      "DeviceProtection\n",
      "                     TARGET_MEAN  Count  Ratio\n",
      "No                         0.391   3095 43.944\n",
      "No internet service        0.074   1526 21.667\n",
      "Yes                        0.225   2422 34.389\n",
      "\n",
      "\n",
      "TechSupport\n",
      "                     TARGET_MEAN  Count  Ratio\n",
      "No                         0.416   3473 49.311\n",
      "No internet service        0.074   1526 21.667\n",
      "Yes                        0.152   2044 29.022\n",
      "\n",
      "\n",
      "StreamingTV\n",
      "                     TARGET_MEAN  Count  Ratio\n",
      "No                         0.335   2810 39.898\n",
      "No internet service        0.074   1526 21.667\n",
      "Yes                        0.301   2707 38.435\n",
      "\n",
      "\n",
      "StreamingMovies\n",
      "                     TARGET_MEAN  Count  Ratio\n",
      "No                         0.337   2785 39.543\n",
      "No internet service        0.074   1526 21.667\n",
      "Yes                        0.299   2732 38.790\n",
      "\n",
      "\n",
      "Contract\n",
      "                TARGET_MEAN  Count  Ratio\n",
      "Month-to-month        0.427   3875 55.019\n",
      "One year              0.113   1473 20.914\n",
      "Two year              0.028   1695 24.066\n",
      "\n",
      "\n",
      "PaperlessBilling\n",
      "     TARGET_MEAN  Count  Ratio\n",
      "No         0.163   2872 40.778\n",
      "Yes        0.336   4171 59.222\n",
      "\n",
      "\n",
      "PaymentMethod\n",
      "                           TARGET_MEAN  Count  Ratio\n",
      "Bank transfer (automatic)        0.167   1544 21.922\n",
      "Credit card (automatic)          0.152   1522 21.610\n",
      "Electronic check                 0.453   2365 33.579\n",
      "Mailed check                     0.191   1612 22.888\n",
      "\n",
      "\n",
      "SeniorCitizen\n",
      "   TARGET_MEAN  Count  Ratio\n",
      "0        0.236   5901 83.785\n",
      "1        0.417   1142 16.215\n",
      "\n",
      "\n",
      "Churn\n",
      "   TARGET_MEAN  Count  Ratio\n",
      "0            0   5174 73.463\n",
      "1            1   1869 26.537\n",
      "\n",
      "\n"
     ]
    }
   ],
   "source": [
    "# Analysis of categorical variables according to target variable\n",
    "\n",
    "def target_summary_with_cat(dataframe, target, categorical_col):\n",
    "    print(categorical_col)\n",
    "    print(pd.DataFrame({\"TARGET_MEAN\": dataframe.groupby(categorical_col)[target].mean(),\n",
    "                        \"Count\": dataframe[categorical_col].value_counts(),\n",
    "                        \"Ratio\": 100 * dataframe[categorical_col].value_counts() / len(dataframe)}), end=\"\\n\\n\\n\")\n",
    "\n",
    "for col in cat_cols:\n",
    "    target_summary_with_cat(df, \"Churn\", col)\n",
    "\n",
    "\n"
   ]
  },
  {
   "cell_type": "code",
   "execution_count": 136,
   "metadata": {},
   "outputs": [
    {
     "data": {
      "text/html": [
       "<div>\n",
       "<style scoped>\n",
       "    .dataframe tbody tr th:only-of-type {\n",
       "        vertical-align: middle;\n",
       "    }\n",
       "\n",
       "    .dataframe tbody tr th {\n",
       "        vertical-align: top;\n",
       "    }\n",
       "\n",
       "    .dataframe thead th {\n",
       "        text-align: right;\n",
       "    }\n",
       "</style>\n",
       "<table border=\"1\" class=\"dataframe\">\n",
       "  <thead>\n",
       "    <tr style=\"text-align: right;\">\n",
       "      <th></th>\n",
       "      <th>tenure</th>\n",
       "      <th>MonthlyCharges</th>\n",
       "      <th>TotalCharges</th>\n",
       "    </tr>\n",
       "  </thead>\n",
       "  <tbody>\n",
       "    <tr>\n",
       "      <th>tenure</th>\n",
       "      <td>1.000</td>\n",
       "      <td>0.248</td>\n",
       "      <td>0.826</td>\n",
       "    </tr>\n",
       "    <tr>\n",
       "      <th>MonthlyCharges</th>\n",
       "      <td>0.248</td>\n",
       "      <td>1.000</td>\n",
       "      <td>0.651</td>\n",
       "    </tr>\n",
       "    <tr>\n",
       "      <th>TotalCharges</th>\n",
       "      <td>0.826</td>\n",
       "      <td>0.651</td>\n",
       "      <td>1.000</td>\n",
       "    </tr>\n",
       "  </tbody>\n",
       "</table>\n",
       "</div>"
      ],
      "text/plain": [
       "                tenure  MonthlyCharges  TotalCharges\n",
       "tenure           1.000           0.248         0.826\n",
       "MonthlyCharges   0.248           1.000         0.651\n",
       "TotalCharges     0.826           0.651         1.000"
      ]
     },
     "execution_count": 136,
     "metadata": {},
     "output_type": "execute_result"
    }
   ],
   "source": [
    "# Correlation\n",
    "\n",
    "df[num_cols].corr()"
   ]
  },
  {
   "cell_type": "code",
   "execution_count": 137,
   "metadata": {},
   "outputs": [
    {
     "data": {
      "image/png": "[encoded data removed]",
      "text/plain": [
       "<Figure size 1296x936 with 2 Axes>"
      ]
     },
     "metadata": {
      "needs_background": "light"
     },
     "output_type": "display_data"
    }
   ],
   "source": [
    "# Correlation Matrix\n",
    "f, ax = plt.subplots(figsize=[18, 13])\n",
    "sns.heatmap(df[num_cols].corr(), annot=True, fmt=\".2f\", ax=ax, cmap=\"magma\")\n",
    "ax.set_title(\"Correlation Matrix\", fontsize=20)\n",
    "plt.show()\n"
   ]
  },
  {
   "cell_type": "code",
   "execution_count": 138,
   "metadata": {},
   "outputs": [
    {
     "data": {
      "text/plain": [
       "Churn             1.000\n",
       "MonthlyCharges    0.193\n",
       "SeniorCitizen     0.151\n",
       "TotalCharges     -0.199\n",
       "tenure           -0.352\n",
       "dtype: float64"
      ]
     },
     "execution_count": 138,
     "metadata": {},
     "output_type": "execute_result"
    }
   ],
   "source": [
    "df.corrwith(df[\"Churn\"]).sort_values(ascending=False)"
   ]
  },
  {
   "cell_type": "code",
   "execution_count": 139,
   "metadata": {},
   "outputs": [
    {
     "data": {
      "text/plain": [
       "customerID           0\n",
       "gender               0\n",
       "SeniorCitizen        0\n",
       "Partner              0\n",
       "Dependents           0\n",
       "tenure               0\n",
       "PhoneService         0\n",
       "MultipleLines        0\n",
       "InternetService      0\n",
       "OnlineSecurity       0\n",
       "OnlineBackup         0\n",
       "DeviceProtection     0\n",
       "TechSupport          0\n",
       "StreamingTV          0\n",
       "StreamingMovies      0\n",
       "Contract             0\n",
       "PaperlessBilling     0\n",
       "PaymentMethod        0\n",
       "MonthlyCharges       0\n",
       "TotalCharges        11\n",
       "Churn                0\n",
       "dtype: int64"
      ]
     },
     "execution_count": 139,
     "metadata": {},
     "output_type": "execute_result"
    }
   ],
   "source": [
    "################ TASK 2 :  FEATURE ENGINEERING\n",
    "\n",
    "# Missing value analysis\n",
    "\n",
    "df.isnull().sum()"
   ]
  },
  {
   "cell_type": "code",
   "execution_count": 140,
   "metadata": {},
   "outputs": [
    {
     "name": "stdout",
     "output_type": "stream",
     "text": [
      "              n_miss  ratio\n",
      "TotalCharges      11  0.160\n"
     ]
    }
   ],
   "source": [
    "def missing_values_table(dataframe, na_name=False):\n",
    "    na_columns = [col for col in dataframe.columns if dataframe[col].isnull().sum() > 0]\n",
    "    n_miss = dataframe[na_columns].isnull().sum().sort_values(ascending=False)\n",
    "    ratio = (dataframe[na_columns].isnull().sum() / dataframe.shape[0] * 100).sort_values(ascending=False)\n",
    "    missing_df = pd.concat([n_miss, np.round(ratio, 2)], axis=1, keys=['n_miss', 'ratio'])\n",
    "    print(missing_df, end=\"\\n\")\n",
    "    if na_name:\n",
    "        return na_columns\n",
    "\n",
    "na_columns = missing_values_table(df, na_name=True)"
   ]
  },
  {
   "cell_type": "code",
   "execution_count": 141,
   "metadata": {},
   "outputs": [
    {
     "data": {
      "text/plain": [
       "customerID          0\n",
       "gender              0\n",
       "SeniorCitizen       0\n",
       "Partner             0\n",
       "Dependents          0\n",
       "tenure              0\n",
       "PhoneService        0\n",
       "MultipleLines       0\n",
       "InternetService     0\n",
       "OnlineSecurity      0\n",
       "OnlineBackup        0\n",
       "DeviceProtection    0\n",
       "TechSupport         0\n",
       "StreamingTV         0\n",
       "StreamingMovies     0\n",
       "Contract            0\n",
       "PaperlessBilling    0\n",
       "PaymentMethod       0\n",
       "MonthlyCharges      0\n",
       "TotalCharges        0\n",
       "Churn               0\n",
       "dtype: int64"
      ]
     },
     "execution_count": 141,
     "metadata": {},
     "output_type": "execute_result"
    }
   ],
   "source": [
    "df[\"TotalCharges\"].fillna(df[\"TotalCharges\"].median(), inplace=True)  # aylık ödenecek miktarlarıyla totalcharge doldurulailir (daya iyi olur denensin)  veya 11 değişken drop edilebilir\n",
    "\n",
    "df.isnull().sum()"
   ]
  },
  {
   "cell_type": "code",
   "execution_count": 142,
   "metadata": {},
   "outputs": [],
   "source": [
    "# Base Model\n",
    "\n",
    "dff = df.copy()\n",
    "cat_cols = [col for col in cat_cols if col not in [\"Churn\"]]\n",
    "cat_cols\n",
    "\n",
    "def one_hot_encoder(dataframe, categorical_cols, drop_first=False):\n",
    "    dataframe = pd.get_dummies(dataframe, columns=categorical_cols, drop_first=drop_first)\n",
    "    return dataframe\n",
    "dff = one_hot_encoder(dff, cat_cols, drop_first=True)\n",
    "\n"
   ]
  },
  {
   "cell_type": "code",
   "execution_count": 143,
   "metadata": {},
   "outputs": [],
   "source": [
    "y = dff[\"Churn\"]\n",
    "X = dff.drop([\"Churn\",\"customerID\"], axis=1)\n",
    "\n",
    "X_train, X_test, y_train, y_test = train_test_split(X, y, test_size=0.30, random_state=17)\n",
    "\n",
    "catboost_model = CatBoostClassifier(verbose=False, random_state=12345).fit(X_train, y_train)\n",
    "y_pred = catboost_model.predict(X_test)\n"
   ]
  },
  {
   "cell_type": "code",
   "execution_count": 146,
   "metadata": {},
   "outputs": [
    {
     "name": "stdout",
     "output_type": "stream",
     "text": [
      "Accuracy: 0.7847\n",
      "Recall: 0.6331\n",
      "Precision: 0.493\n",
      "F1: 0.5544\n",
      "Auc: 0.7292\n"
     ]
    }
   ],
   "source": [
    "\n",
    "print(f\"Accuracy: {round(accuracy_score(y_pred, y_test), 4)}\")\n",
    "print(f\"Recall: {round(recall_score(y_pred,y_test),4)}\")\n",
    "print(f\"Precision: {round(precision_score(y_pred,y_test), 4)}\")\n",
    "print(f\"F1: {round(f1_score(y_pred,y_test), 4)}\")\n",
    "print(f\"Auc: {round(roc_auc_score(y_pred,y_test), 4)}\")"
   ]
  },
  {
   "cell_type": "code",
   "execution_count": 147,
   "metadata": {},
   "outputs": [],
   "source": [
    "# Analysis of outliers\n",
    "\n",
    "def outlier_thresholds(dataframe, col_name, q1=0.05, q3=0.95):\n",
    "    quartile1 = dataframe[col_name].quantile(q1)\n",
    "    quartile3 = dataframe[col_name].quantile(q3)\n",
    "    interquantile_range = quartile3 - quartile1\n",
    "    up_limit = quartile3 + 1.5 * interquantile_range\n",
    "    low_limit = quartile1 - 1.5 * interquantile_range\n",
    "    return low_limit, up_limit"
   ]
  },
  {
   "cell_type": "code",
   "execution_count": 148,
   "metadata": {},
   "outputs": [],
   "source": [
    "def check_outlier(dataframe, col_name):\n",
    "    low_limit, up_limit = outlier_thresholds(dataframe, col_name)\n",
    "    if dataframe[(dataframe[col_name] > up_limit) | (dataframe[col_name] < low_limit)].any(axis=None):\n",
    "        return True\n",
    "    else:\n",
    "        return False"
   ]
  },
  {
   "cell_type": "code",
   "execution_count": 149,
   "metadata": {},
   "outputs": [],
   "source": [
    "def replace_with_thresholds(dataframe, variable, q1=0.05, q3=0.95):\n",
    "    low_limit, up_limit = outlier_thresholds(dataframe, variable, q1=0.05, q3=0.95)\n",
    "    dataframe.loc[(dataframe[variable] < low_limit), variable] = low_limit\n",
    "    dataframe.loc[(dataframe[variable] > up_limit), variable] = up_limit\n"
   ]
  },
  {
   "cell_type": "code",
   "execution_count": 150,
   "metadata": {},
   "outputs": [
    {
     "name": "stdout",
     "output_type": "stream",
     "text": [
      "tenure False\n",
      "MonthlyCharges False\n",
      "TotalCharges False\n"
     ]
    }
   ],
   "source": [
    "for col in num_cols:\n",
    "    print(col, check_outlier(df, col))\n",
    "    if check_outlier(df, col):\n",
    "        replace_with_thresholds(df, col)\n"
   ]
  },
  {
   "cell_type": "code",
   "execution_count": 151,
   "metadata": {},
   "outputs": [],
   "source": [
    "# Feature Extraction\n",
    "\n",
    "# Generating annual categorical variable from Tenure variable\n",
    "df.loc[(df[\"tenure\"]>=0) & (df[\"tenure\"]<=12),\"NEW_TENURE_YEAR\"] = \"0-1 Year\"\n",
    "df.loc[(df[\"tenure\"]>12) & (df[\"tenure\"]<=24),\"NEW_TENURE_YEAR\"] = \"1-2 Year\"\n",
    "df.loc[(df[\"tenure\"]>24) & (df[\"tenure\"]<=36),\"NEW_TENURE_YEAR\"] = \"2-3 Year\"\n",
    "df.loc[(df[\"tenure\"]>36) & (df[\"tenure\"]<=48),\"NEW_TENURE_YEAR\"] = \"3-4 Year\"\n",
    "df.loc[(df[\"tenure\"]>48) & (df[\"tenure\"]<=60),\"NEW_TENURE_YEAR\"] = \"4-5 Year\"\n",
    "df.loc[(df[\"tenure\"]>60) & (df[\"tenure\"]<=72),\"NEW_TENURE_YEAR\"] = \"5-6 Year\""
   ]
  },
  {
   "cell_type": "code",
   "execution_count": 152,
   "metadata": {},
   "outputs": [],
   "source": [
    "#  Engaged : Customers with a contract of 1 or 2 years\n",
    "df[\"NEW_Engaged\"] = df[\"Contract\"].apply(lambda x: 1 if x in [\"One year\",\"Two year\"] else 0)"
   ]
  },
  {
   "cell_type": "code",
   "execution_count": 153,
   "metadata": {},
   "outputs": [],
   "source": [
    "# Customers do not receive any support, backup or protection\n",
    "df[\"NEW_noProt\"] = df.apply(lambda x: 1 if (x[\"OnlineBackup\"] != \"Yes\") or (x[\"DeviceProtection\"] != \"Yes\") or (x[\"TechSupport\"] != \"Yes\") else 0, axis=1)\n"
   ]
  },
  {
   "cell_type": "code",
   "execution_count": 154,
   "metadata": {},
   "outputs": [],
   "source": [
    "# Young customers with monthly contracts\n",
    "df[\"NEW_Young_Not_Engaged\"] = df.apply(lambda x: 1 if (x[\"NEW_Engaged\"] == 0) and (x[\"SeniorCitizen\"] == 0) else 0, axis=1)\n"
   ]
  },
  {
   "cell_type": "code",
   "execution_count": 155,
   "metadata": {},
   "outputs": [],
   "source": [
    "# The total number of services received by the customer\n",
    "df['NEW_TotalServices'] = (df[['PhoneService', 'InternetService', 'OnlineSecurity',\n",
    "                                       'OnlineBackup', 'DeviceProtection', 'TechSupport',\n",
    "                                       'StreamingTV', 'StreamingMovies']]== 'Yes').sum(axis=1)\n"
   ]
  },
  {
   "cell_type": "code",
   "execution_count": 156,
   "metadata": {},
   "outputs": [],
   "source": [
    "# Customer  who has any streaming service\n",
    "df[\"NEW_FLAG_ANY_STREAMING\"] = df.apply(lambda x: 1 if (x[\"StreamingTV\"] == \"Yes\") or (x[\"StreamingMovies\"] == \"Yes\") else 0, axis=1)\n"
   ]
  },
  {
   "cell_type": "code",
   "execution_count": 157,
   "metadata": {},
   "outputs": [],
   "source": [
    "# Whether the customer makes automatic payments\n",
    "df[\"NEW_FLAG_AutoPayment\"] = df[\"PaymentMethod\"].apply(lambda x: 1 if x in [\"Bank transfer (automatic)\",\"Credit card (automatic)\"] else 0)\n"
   ]
  },
  {
   "cell_type": "code",
   "execution_count": 158,
   "metadata": {},
   "outputs": [],
   "source": [
    "# Average monthly payment\n",
    "df[\"NEW_AVG_Charges\"] = df[\"TotalCharges\"] / (df[\"tenure\"] + 1)\n"
   ]
  },
  {
   "cell_type": "code",
   "execution_count": 159,
   "metadata": {},
   "outputs": [],
   "source": [
    "# Current Price increase relative to average price\n",
    "df[\"NEW_Increase\"] = df[\"NEW_AVG_Charges\"] / df[\"MonthlyCharges\"]\n"
   ]
  },
  {
   "cell_type": "code",
   "execution_count": 160,
   "metadata": {},
   "outputs": [],
   "source": [
    "# Charge per service\n",
    "df[\"NEW_AVG_Service_Fee\"] = df[\"MonthlyCharges\"] / (df['NEW_TotalServices'] + 1)\n"
   ]
  },
  {
   "cell_type": "code",
   "execution_count": 161,
   "metadata": {},
   "outputs": [
    {
     "data": {
      "text/html": [
       "<div>\n",
       "<style scoped>\n",
       "    .dataframe tbody tr th:only-of-type {\n",
       "        vertical-align: middle;\n",
       "    }\n",
       "\n",
       "    .dataframe tbody tr th {\n",
       "        vertical-align: top;\n",
       "    }\n",
       "\n",
       "    .dataframe thead th {\n",
       "        text-align: right;\n",
       "    }\n",
       "</style>\n",
       "<table border=\"1\" class=\"dataframe\">\n",
       "  <thead>\n",
       "    <tr style=\"text-align: right;\">\n",
       "      <th></th>\n",
       "      <th>customerID</th>\n",
       "      <th>gender</th>\n",
       "      <th>SeniorCitizen</th>\n",
       "      <th>Partner</th>\n",
       "      <th>Dependents</th>\n",
       "      <th>tenure</th>\n",
       "      <th>PhoneService</th>\n",
       "      <th>MultipleLines</th>\n",
       "      <th>InternetService</th>\n",
       "      <th>OnlineSecurity</th>\n",
       "      <th>OnlineBackup</th>\n",
       "      <th>DeviceProtection</th>\n",
       "      <th>TechSupport</th>\n",
       "      <th>StreamingTV</th>\n",
       "      <th>StreamingMovies</th>\n",
       "      <th>Contract</th>\n",
       "      <th>PaperlessBilling</th>\n",
       "      <th>PaymentMethod</th>\n",
       "      <th>MonthlyCharges</th>\n",
       "      <th>TotalCharges</th>\n",
       "      <th>Churn</th>\n",
       "      <th>NEW_TENURE_YEAR</th>\n",
       "      <th>NEW_Engaged</th>\n",
       "      <th>NEW_noProt</th>\n",
       "      <th>NEW_Young_Not_Engaged</th>\n",
       "      <th>NEW_TotalServices</th>\n",
       "      <th>NEW_FLAG_ANY_STREAMING</th>\n",
       "      <th>NEW_FLAG_AutoPayment</th>\n",
       "      <th>NEW_AVG_Charges</th>\n",
       "      <th>NEW_Increase</th>\n",
       "      <th>NEW_AVG_Service_Fee</th>\n",
       "    </tr>\n",
       "  </thead>\n",
       "  <tbody>\n",
       "    <tr>\n",
       "      <th>0</th>\n",
       "      <td>7590-VHVEG</td>\n",
       "      <td>Female</td>\n",
       "      <td>0</td>\n",
       "      <td>Yes</td>\n",
       "      <td>No</td>\n",
       "      <td>1</td>\n",
       "      <td>No</td>\n",
       "      <td>No phone service</td>\n",
       "      <td>DSL</td>\n",
       "      <td>No</td>\n",
       "      <td>Yes</td>\n",
       "      <td>No</td>\n",
       "      <td>No</td>\n",
       "      <td>No</td>\n",
       "      <td>No</td>\n",
       "      <td>Month-to-month</td>\n",
       "      <td>Yes</td>\n",
       "      <td>Electronic check</td>\n",
       "      <td>29.850</td>\n",
       "      <td>29.850</td>\n",
       "      <td>0</td>\n",
       "      <td>0-1 Year</td>\n",
       "      <td>0</td>\n",
       "      <td>1</td>\n",
       "      <td>1</td>\n",
       "      <td>1</td>\n",
       "      <td>0</td>\n",
       "      <td>0</td>\n",
       "      <td>14.925</td>\n",
       "      <td>0.500</td>\n",
       "      <td>14.925</td>\n",
       "    </tr>\n",
       "    <tr>\n",
       "      <th>1</th>\n",
       "      <td>5575-GNVDE</td>\n",
       "      <td>Male</td>\n",
       "      <td>0</td>\n",
       "      <td>No</td>\n",
       "      <td>No</td>\n",
       "      <td>34</td>\n",
       "      <td>Yes</td>\n",
       "      <td>No</td>\n",
       "      <td>DSL</td>\n",
       "      <td>Yes</td>\n",
       "      <td>No</td>\n",
       "      <td>Yes</td>\n",
       "      <td>No</td>\n",
       "      <td>No</td>\n",
       "      <td>No</td>\n",
       "      <td>One year</td>\n",
       "      <td>No</td>\n",
       "      <td>Mailed check</td>\n",
       "      <td>56.950</td>\n",
       "      <td>1889.500</td>\n",
       "      <td>0</td>\n",
       "      <td>2-3 Year</td>\n",
       "      <td>1</td>\n",
       "      <td>1</td>\n",
       "      <td>0</td>\n",
       "      <td>3</td>\n",
       "      <td>0</td>\n",
       "      <td>0</td>\n",
       "      <td>53.986</td>\n",
       "      <td>0.948</td>\n",
       "      <td>14.238</td>\n",
       "    </tr>\n",
       "    <tr>\n",
       "      <th>2</th>\n",
       "      <td>3668-QPYBK</td>\n",
       "      <td>Male</td>\n",
       "      <td>0</td>\n",
       "      <td>No</td>\n",
       "      <td>No</td>\n",
       "      <td>2</td>\n",
       "      <td>Yes</td>\n",
       "      <td>No</td>\n",
       "      <td>DSL</td>\n",
       "      <td>Yes</td>\n",
       "      <td>Yes</td>\n",
       "      <td>No</td>\n",
       "      <td>No</td>\n",
       "      <td>No</td>\n",
       "      <td>No</td>\n",
       "      <td>Month-to-month</td>\n",
       "      <td>Yes</td>\n",
       "      <td>Mailed check</td>\n",
       "      <td>53.850</td>\n",
       "      <td>108.150</td>\n",
       "      <td>1</td>\n",
       "      <td>0-1 Year</td>\n",
       "      <td>0</td>\n",
       "      <td>1</td>\n",
       "      <td>1</td>\n",
       "      <td>3</td>\n",
       "      <td>0</td>\n",
       "      <td>0</td>\n",
       "      <td>36.050</td>\n",
       "      <td>0.669</td>\n",
       "      <td>13.463</td>\n",
       "    </tr>\n",
       "    <tr>\n",
       "      <th>3</th>\n",
       "      <td>7795-CFOCW</td>\n",
       "      <td>Male</td>\n",
       "      <td>0</td>\n",
       "      <td>No</td>\n",
       "      <td>No</td>\n",
       "      <td>45</td>\n",
       "      <td>No</td>\n",
       "      <td>No phone service</td>\n",
       "      <td>DSL</td>\n",
       "      <td>Yes</td>\n",
       "      <td>No</td>\n",
       "      <td>Yes</td>\n",
       "      <td>Yes</td>\n",
       "      <td>No</td>\n",
       "      <td>No</td>\n",
       "      <td>One year</td>\n",
       "      <td>No</td>\n",
       "      <td>Bank transfer (automatic)</td>\n",
       "      <td>42.300</td>\n",
       "      <td>1840.750</td>\n",
       "      <td>0</td>\n",
       "      <td>3-4 Year</td>\n",
       "      <td>1</td>\n",
       "      <td>1</td>\n",
       "      <td>0</td>\n",
       "      <td>3</td>\n",
       "      <td>0</td>\n",
       "      <td>1</td>\n",
       "      <td>40.016</td>\n",
       "      <td>0.946</td>\n",
       "      <td>10.575</td>\n",
       "    </tr>\n",
       "    <tr>\n",
       "      <th>4</th>\n",
       "      <td>9237-HQITU</td>\n",
       "      <td>Female</td>\n",
       "      <td>0</td>\n",
       "      <td>No</td>\n",
       "      <td>No</td>\n",
       "      <td>2</td>\n",
       "      <td>Yes</td>\n",
       "      <td>No</td>\n",
       "      <td>Fiber optic</td>\n",
       "      <td>No</td>\n",
       "      <td>No</td>\n",
       "      <td>No</td>\n",
       "      <td>No</td>\n",
       "      <td>No</td>\n",
       "      <td>No</td>\n",
       "      <td>Month-to-month</td>\n",
       "      <td>Yes</td>\n",
       "      <td>Electronic check</td>\n",
       "      <td>70.700</td>\n",
       "      <td>151.650</td>\n",
       "      <td>1</td>\n",
       "      <td>0-1 Year</td>\n",
       "      <td>0</td>\n",
       "      <td>1</td>\n",
       "      <td>1</td>\n",
       "      <td>1</td>\n",
       "      <td>0</td>\n",
       "      <td>0</td>\n",
       "      <td>50.550</td>\n",
       "      <td>0.715</td>\n",
       "      <td>35.350</td>\n",
       "    </tr>\n",
       "  </tbody>\n",
       "</table>\n",
       "</div>"
      ],
      "text/plain": [
       "   customerID  gender  SeniorCitizen Partner Dependents  tenure PhoneService     MultipleLines InternetService OnlineSecurity OnlineBackup DeviceProtection TechSupport  \\\n",
       "0  7590-VHVEG  Female              0     Yes         No       1           No  No phone service             DSL             No          Yes               No          No   \n",
       "1  5575-GNVDE    Male              0      No         No      34          Yes                No             DSL            Yes           No              Yes          No   \n",
       "2  3668-QPYBK    Male              0      No         No       2          Yes                No             DSL            Yes          Yes               No          No   \n",
       "3  7795-CFOCW    Male              0      No         No      45           No  No phone service             DSL            Yes           No              Yes         Yes   \n",
       "4  9237-HQITU  Female              0      No         No       2          Yes                No     Fiber optic             No           No               No          No   \n",
       "\n",
       "  StreamingTV StreamingMovies        Contract PaperlessBilling              PaymentMethod  MonthlyCharges  TotalCharges  Churn NEW_TENURE_YEAR  NEW_Engaged  NEW_noProt  \\\n",
       "0          No              No  Month-to-month              Yes           Electronic check          29.850        29.850      0        0-1 Year            0           1   \n",
       "1          No              No        One year               No               Mailed check          56.950      1889.500      0        2-3 Year            1           1   \n",
       "2          No              No  Month-to-month              Yes               Mailed check          53.850       108.150      1        0-1 Year            0           1   \n",
       "3          No              No        One year               No  Bank transfer (automatic)          42.300      1840.750      0        3-4 Year            1           1   \n",
       "4          No              No  Month-to-month              Yes           Electronic check          70.700       151.650      1        0-1 Year            0           1   \n",
       "\n",
       "   NEW_Young_Not_Engaged  NEW_TotalServices  NEW_FLAG_ANY_STREAMING  NEW_FLAG_AutoPayment  NEW_AVG_Charges  NEW_Increase  NEW_AVG_Service_Fee  \n",
       "0                      1                  1                       0                     0           14.925         0.500               14.925  \n",
       "1                      0                  3                       0                     0           53.986         0.948               14.238  \n",
       "2                      1                  3                       0                     0           36.050         0.669               13.463  \n",
       "3                      0                  3                       0                     1           40.016         0.946               10.575  \n",
       "4                      1                  1                       0                     0           50.550         0.715               35.350  "
      ]
     },
     "execution_count": 161,
     "metadata": {},
     "output_type": "execute_result"
    }
   ],
   "source": [
    "df.head()\n"
   ]
  },
  {
   "cell_type": "code",
   "execution_count": 162,
   "metadata": {},
   "outputs": [
    {
     "data": {
      "text/plain": [
       "(7043, 31)"
      ]
     },
     "execution_count": 162,
     "metadata": {},
     "output_type": "execute_result"
    }
   ],
   "source": [
    "df.shape"
   ]
  },
  {
   "cell_type": "code",
   "execution_count": 163,
   "metadata": {},
   "outputs": [
    {
     "name": "stdout",
     "output_type": "stream",
     "text": [
      "Observations: 7043\n",
      "Variables: 31\n",
      "cat_cols: 24\n",
      "num_cols: 6\n",
      "cat_but_car: 1\n",
      "num_but_cat: 8\n"
     ]
    }
   ],
   "source": [
    "# Encoding\n",
    "\n",
    "cat_cols, num_cols, cat_but_car = grab_col_names(df)"
   ]
  },
  {
   "cell_type": "code",
   "execution_count": 164,
   "metadata": {},
   "outputs": [],
   "source": [
    "# Label encoding\n",
    "def label_encoder(dataframe, binary_col):\n",
    "    labelencoder = LabelEncoder()\n",
    "    dataframe[binary_col] = labelencoder.fit_transform(dataframe[binary_col])\n",
    "    return dataframe"
   ]
  },
  {
   "cell_type": "code",
   "execution_count": 165,
   "metadata": {},
   "outputs": [
    {
     "data": {
      "text/plain": [
       "['gender', 'Partner', 'Dependents', 'PhoneService', 'PaperlessBilling']"
      ]
     },
     "execution_count": 165,
     "metadata": {},
     "output_type": "execute_result"
    }
   ],
   "source": [
    "binary_cols = [col for col in df.columns if df[col].dtypes == \"O\" and df[col].nunique() == 2]\n",
    "binary_cols\n"
   ]
  },
  {
   "cell_type": "code",
   "execution_count": 166,
   "metadata": {},
   "outputs": [],
   "source": [
    "for col in binary_cols:\n",
    "    df = label_encoder(df, col)"
   ]
  },
  {
   "cell_type": "code",
   "execution_count": 167,
   "metadata": {},
   "outputs": [
    {
     "data": {
      "text/plain": [
       "['MultipleLines',\n",
       " 'InternetService',\n",
       " 'OnlineSecurity',\n",
       " 'OnlineBackup',\n",
       " 'DeviceProtection',\n",
       " 'TechSupport',\n",
       " 'StreamingTV',\n",
       " 'StreamingMovies',\n",
       " 'Contract',\n",
       " 'PaymentMethod',\n",
       " 'NEW_TENURE_YEAR',\n",
       " 'SeniorCitizen',\n",
       " 'NEW_Engaged',\n",
       " 'NEW_noProt',\n",
       " 'NEW_Young_Not_Engaged',\n",
       " 'NEW_FLAG_ANY_STREAMING',\n",
       " 'NEW_FLAG_AutoPayment']"
      ]
     },
     "execution_count": 167,
     "metadata": {},
     "output_type": "execute_result"
    }
   ],
   "source": [
    "# One-Hot encoding \n",
    "# cat_cols :\n",
    "cat_cols = [col for col in cat_cols if col not in binary_cols and col not in [\"Churn\", \"NEW_TotalServices\"]]\n",
    "cat_cols\n"
   ]
  },
  {
   "cell_type": "code",
   "execution_count": 168,
   "metadata": {},
   "outputs": [],
   "source": [
    "def one_hot_encoder(dataframe, categorical_cols, drop_first=False):\n",
    "    dataframe = pd.get_dummies(dataframe, columns=categorical_cols, drop_first=drop_first)\n",
    "    return dataframe\n",
    "\n",
    "df = one_hot_encoder(df, cat_cols, drop_first=True)\n",
    "\n"
   ]
  },
  {
   "cell_type": "code",
   "execution_count": 169,
   "metadata": {},
   "outputs": [
    {
     "data": {
      "text/html": [
       "<div>\n",
       "<style scoped>\n",
       "    .dataframe tbody tr th:only-of-type {\n",
       "        vertical-align: middle;\n",
       "    }\n",
       "\n",
       "    .dataframe tbody tr th {\n",
       "        vertical-align: top;\n",
       "    }\n",
       "\n",
       "    .dataframe thead th {\n",
       "        text-align: right;\n",
       "    }\n",
       "</style>\n",
       "<table border=\"1\" class=\"dataframe\">\n",
       "  <thead>\n",
       "    <tr style=\"text-align: right;\">\n",
       "      <th></th>\n",
       "      <th>customerID</th>\n",
       "      <th>gender</th>\n",
       "      <th>Partner</th>\n",
       "      <th>Dependents</th>\n",
       "      <th>tenure</th>\n",
       "      <th>PhoneService</th>\n",
       "      <th>PaperlessBilling</th>\n",
       "      <th>MonthlyCharges</th>\n",
       "      <th>TotalCharges</th>\n",
       "      <th>Churn</th>\n",
       "      <th>NEW_TotalServices</th>\n",
       "      <th>NEW_AVG_Charges</th>\n",
       "      <th>NEW_Increase</th>\n",
       "      <th>NEW_AVG_Service_Fee</th>\n",
       "      <th>MultipleLines_No phone service</th>\n",
       "      <th>MultipleLines_Yes</th>\n",
       "      <th>InternetService_Fiber optic</th>\n",
       "      <th>InternetService_No</th>\n",
       "      <th>OnlineSecurity_No internet service</th>\n",
       "      <th>OnlineSecurity_Yes</th>\n",
       "      <th>OnlineBackup_No internet service</th>\n",
       "      <th>OnlineBackup_Yes</th>\n",
       "      <th>DeviceProtection_No internet service</th>\n",
       "      <th>DeviceProtection_Yes</th>\n",
       "      <th>TechSupport_No internet service</th>\n",
       "      <th>TechSupport_Yes</th>\n",
       "      <th>StreamingTV_No internet service</th>\n",
       "      <th>StreamingTV_Yes</th>\n",
       "      <th>StreamingMovies_No internet service</th>\n",
       "      <th>StreamingMovies_Yes</th>\n",
       "      <th>Contract_One year</th>\n",
       "      <th>Contract_Two year</th>\n",
       "      <th>PaymentMethod_Credit card (automatic)</th>\n",
       "      <th>PaymentMethod_Electronic check</th>\n",
       "      <th>PaymentMethod_Mailed check</th>\n",
       "      <th>NEW_TENURE_YEAR_1-2 Year</th>\n",
       "      <th>NEW_TENURE_YEAR_2-3 Year</th>\n",
       "      <th>NEW_TENURE_YEAR_3-4 Year</th>\n",
       "      <th>NEW_TENURE_YEAR_4-5 Year</th>\n",
       "      <th>NEW_TENURE_YEAR_5-6 Year</th>\n",
       "      <th>SeniorCitizen_1</th>\n",
       "      <th>NEW_Engaged_1</th>\n",
       "      <th>NEW_noProt_1</th>\n",
       "      <th>NEW_Young_Not_Engaged_1</th>\n",
       "      <th>NEW_FLAG_ANY_STREAMING_1</th>\n",
       "      <th>NEW_FLAG_AutoPayment_1</th>\n",
       "    </tr>\n",
       "  </thead>\n",
       "  <tbody>\n",
       "    <tr>\n",
       "      <th>0</th>\n",
       "      <td>7590-VHVEG</td>\n",
       "      <td>0</td>\n",
       "      <td>1</td>\n",
       "      <td>0</td>\n",
       "      <td>1</td>\n",
       "      <td>0</td>\n",
       "      <td>1</td>\n",
       "      <td>29.850</td>\n",
       "      <td>29.850</td>\n",
       "      <td>0</td>\n",
       "      <td>1</td>\n",
       "      <td>14.925</td>\n",
       "      <td>0.500</td>\n",
       "      <td>14.925</td>\n",
       "      <td>1</td>\n",
       "      <td>0</td>\n",
       "      <td>0</td>\n",
       "      <td>0</td>\n",
       "      <td>0</td>\n",
       "      <td>0</td>\n",
       "      <td>0</td>\n",
       "      <td>1</td>\n",
       "      <td>0</td>\n",
       "      <td>0</td>\n",
       "      <td>0</td>\n",
       "      <td>0</td>\n",
       "      <td>0</td>\n",
       "      <td>0</td>\n",
       "      <td>0</td>\n",
       "      <td>0</td>\n",
       "      <td>0</td>\n",
       "      <td>0</td>\n",
       "      <td>0</td>\n",
       "      <td>1</td>\n",
       "      <td>0</td>\n",
       "      <td>0</td>\n",
       "      <td>0</td>\n",
       "      <td>0</td>\n",
       "      <td>0</td>\n",
       "      <td>0</td>\n",
       "      <td>0</td>\n",
       "      <td>0</td>\n",
       "      <td>1</td>\n",
       "      <td>1</td>\n",
       "      <td>0</td>\n",
       "      <td>0</td>\n",
       "    </tr>\n",
       "    <tr>\n",
       "      <th>1</th>\n",
       "      <td>5575-GNVDE</td>\n",
       "      <td>1</td>\n",
       "      <td>0</td>\n",
       "      <td>0</td>\n",
       "      <td>34</td>\n",
       "      <td>1</td>\n",
       "      <td>0</td>\n",
       "      <td>56.950</td>\n",
       "      <td>1889.500</td>\n",
       "      <td>0</td>\n",
       "      <td>3</td>\n",
       "      <td>53.986</td>\n",
       "      <td>0.948</td>\n",
       "      <td>14.238</td>\n",
       "      <td>0</td>\n",
       "      <td>0</td>\n",
       "      <td>0</td>\n",
       "      <td>0</td>\n",
       "      <td>0</td>\n",
       "      <td>1</td>\n",
       "      <td>0</td>\n",
       "      <td>0</td>\n",
       "      <td>0</td>\n",
       "      <td>1</td>\n",
       "      <td>0</td>\n",
       "      <td>0</td>\n",
       "      <td>0</td>\n",
       "      <td>0</td>\n",
       "      <td>0</td>\n",
       "      <td>0</td>\n",
       "      <td>1</td>\n",
       "      <td>0</td>\n",
       "      <td>0</td>\n",
       "      <td>0</td>\n",
       "      <td>1</td>\n",
       "      <td>0</td>\n",
       "      <td>1</td>\n",
       "      <td>0</td>\n",
       "      <td>0</td>\n",
       "      <td>0</td>\n",
       "      <td>0</td>\n",
       "      <td>1</td>\n",
       "      <td>1</td>\n",
       "      <td>0</td>\n",
       "      <td>0</td>\n",
       "      <td>0</td>\n",
       "    </tr>\n",
       "    <tr>\n",
       "      <th>2</th>\n",
       "      <td>3668-QPYBK</td>\n",
       "      <td>1</td>\n",
       "      <td>0</td>\n",
       "      <td>0</td>\n",
       "      <td>2</td>\n",
       "      <td>1</td>\n",
       "      <td>1</td>\n",
       "      <td>53.850</td>\n",
       "      <td>108.150</td>\n",
       "      <td>1</td>\n",
       "      <td>3</td>\n",
       "      <td>36.050</td>\n",
       "      <td>0.669</td>\n",
       "      <td>13.463</td>\n",
       "      <td>0</td>\n",
       "      <td>0</td>\n",
       "      <td>0</td>\n",
       "      <td>0</td>\n",
       "      <td>0</td>\n",
       "      <td>1</td>\n",
       "      <td>0</td>\n",
       "      <td>1</td>\n",
       "      <td>0</td>\n",
       "      <td>0</td>\n",
       "      <td>0</td>\n",
       "      <td>0</td>\n",
       "      <td>0</td>\n",
       "      <td>0</td>\n",
       "      <td>0</td>\n",
       "      <td>0</td>\n",
       "      <td>0</td>\n",
       "      <td>0</td>\n",
       "      <td>0</td>\n",
       "      <td>0</td>\n",
       "      <td>1</td>\n",
       "      <td>0</td>\n",
       "      <td>0</td>\n",
       "      <td>0</td>\n",
       "      <td>0</td>\n",
       "      <td>0</td>\n",
       "      <td>0</td>\n",
       "      <td>0</td>\n",
       "      <td>1</td>\n",
       "      <td>1</td>\n",
       "      <td>0</td>\n",
       "      <td>0</td>\n",
       "    </tr>\n",
       "    <tr>\n",
       "      <th>3</th>\n",
       "      <td>7795-CFOCW</td>\n",
       "      <td>1</td>\n",
       "      <td>0</td>\n",
       "      <td>0</td>\n",
       "      <td>45</td>\n",
       "      <td>0</td>\n",
       "      <td>0</td>\n",
       "      <td>42.300</td>\n",
       "      <td>1840.750</td>\n",
       "      <td>0</td>\n",
       "      <td>3</td>\n",
       "      <td>40.016</td>\n",
       "      <td>0.946</td>\n",
       "      <td>10.575</td>\n",
       "      <td>1</td>\n",
       "      <td>0</td>\n",
       "      <td>0</td>\n",
       "      <td>0</td>\n",
       "      <td>0</td>\n",
       "      <td>1</td>\n",
       "      <td>0</td>\n",
       "      <td>0</td>\n",
       "      <td>0</td>\n",
       "      <td>1</td>\n",
       "      <td>0</td>\n",
       "      <td>1</td>\n",
       "      <td>0</td>\n",
       "      <td>0</td>\n",
       "      <td>0</td>\n",
       "      <td>0</td>\n",
       "      <td>1</td>\n",
       "      <td>0</td>\n",
       "      <td>0</td>\n",
       "      <td>0</td>\n",
       "      <td>0</td>\n",
       "      <td>0</td>\n",
       "      <td>0</td>\n",
       "      <td>1</td>\n",
       "      <td>0</td>\n",
       "      <td>0</td>\n",
       "      <td>0</td>\n",
       "      <td>1</td>\n",
       "      <td>1</td>\n",
       "      <td>0</td>\n",
       "      <td>0</td>\n",
       "      <td>1</td>\n",
       "    </tr>\n",
       "    <tr>\n",
       "      <th>4</th>\n",
       "      <td>9237-HQITU</td>\n",
       "      <td>0</td>\n",
       "      <td>0</td>\n",
       "      <td>0</td>\n",
       "      <td>2</td>\n",
       "      <td>1</td>\n",
       "      <td>1</td>\n",
       "      <td>70.700</td>\n",
       "      <td>151.650</td>\n",
       "      <td>1</td>\n",
       "      <td>1</td>\n",
       "      <td>50.550</td>\n",
       "      <td>0.715</td>\n",
       "      <td>35.350</td>\n",
       "      <td>0</td>\n",
       "      <td>0</td>\n",
       "      <td>1</td>\n",
       "      <td>0</td>\n",
       "      <td>0</td>\n",
       "      <td>0</td>\n",
       "      <td>0</td>\n",
       "      <td>0</td>\n",
       "      <td>0</td>\n",
       "      <td>0</td>\n",
       "      <td>0</td>\n",
       "      <td>0</td>\n",
       "      <td>0</td>\n",
       "      <td>0</td>\n",
       "      <td>0</td>\n",
       "      <td>0</td>\n",
       "      <td>0</td>\n",
       "      <td>0</td>\n",
       "      <td>0</td>\n",
       "      <td>1</td>\n",
       "      <td>0</td>\n",
       "      <td>0</td>\n",
       "      <td>0</td>\n",
       "      <td>0</td>\n",
       "      <td>0</td>\n",
       "      <td>0</td>\n",
       "      <td>0</td>\n",
       "      <td>0</td>\n",
       "      <td>1</td>\n",
       "      <td>1</td>\n",
       "      <td>0</td>\n",
       "      <td>0</td>\n",
       "    </tr>\n",
       "  </tbody>\n",
       "</table>\n",
       "</div>"
      ],
      "text/plain": [
       "   customerID  gender  Partner  Dependents  tenure  PhoneService  PaperlessBilling  MonthlyCharges  TotalCharges  Churn  NEW_TotalServices  NEW_AVG_Charges  \\\n",
       "0  7590-VHVEG       0        1           0       1             0                 1          29.850        29.850      0                  1           14.925   \n",
       "1  5575-GNVDE       1        0           0      34             1                 0          56.950      1889.500      0                  3           53.986   \n",
       "2  3668-QPYBK       1        0           0       2             1                 1          53.850       108.150      1                  3           36.050   \n",
       "3  7795-CFOCW       1        0           0      45             0                 0          42.300      1840.750      0                  3           40.016   \n",
       "4  9237-HQITU       0        0           0       2             1                 1          70.700       151.650      1                  1           50.550   \n",
       "\n",
       "   NEW_Increase  NEW_AVG_Service_Fee  MultipleLines_No phone service  MultipleLines_Yes  InternetService_Fiber optic  InternetService_No  \\\n",
       "0         0.500               14.925                               1                  0                            0                   0   \n",
       "1         0.948               14.238                               0                  0                            0                   0   \n",
       "2         0.669               13.463                               0                  0                            0                   0   \n",
       "3         0.946               10.575                               1                  0                            0                   0   \n",
       "4         0.715               35.350                               0                  0                            1                   0   \n",
       "\n",
       "   OnlineSecurity_No internet service  OnlineSecurity_Yes  OnlineBackup_No internet service  OnlineBackup_Yes  DeviceProtection_No internet service  \\\n",
       "0                                   0                   0                                 0                 1                                     0   \n",
       "1                                   0                   1                                 0                 0                                     0   \n",
       "2                                   0                   1                                 0                 1                                     0   \n",
       "3                                   0                   1                                 0                 0                                     0   \n",
       "4                                   0                   0                                 0                 0                                     0   \n",
       "\n",
       "   DeviceProtection_Yes  TechSupport_No internet service  TechSupport_Yes  StreamingTV_No internet service  StreamingTV_Yes  StreamingMovies_No internet service  \\\n",
       "0                     0                                0                0                                0                0                                    0   \n",
       "1                     1                                0                0                                0                0                                    0   \n",
       "2                     0                                0                0                                0                0                                    0   \n",
       "3                     1                                0                1                                0                0                                    0   \n",
       "4                     0                                0                0                                0                0                                    0   \n",
       "\n",
       "   StreamingMovies_Yes  Contract_One year  Contract_Two year  PaymentMethod_Credit card (automatic)  PaymentMethod_Electronic check  PaymentMethod_Mailed check  \\\n",
       "0                    0                  0                  0                                      0                               1                           0   \n",
       "1                    0                  1                  0                                      0                               0                           1   \n",
       "2                    0                  0                  0                                      0                               0                           1   \n",
       "3                    0                  1                  0                                      0                               0                           0   \n",
       "4                    0                  0                  0                                      0                               1                           0   \n",
       "\n",
       "   NEW_TENURE_YEAR_1-2 Year  NEW_TENURE_YEAR_2-3 Year  NEW_TENURE_YEAR_3-4 Year  NEW_TENURE_YEAR_4-5 Year  NEW_TENURE_YEAR_5-6 Year  SeniorCitizen_1  NEW_Engaged_1  \\\n",
       "0                         0                         0                         0                         0                         0                0              0   \n",
       "1                         0                         1                         0                         0                         0                0              1   \n",
       "2                         0                         0                         0                         0                         0                0              0   \n",
       "3                         0                         0                         1                         0                         0                0              1   \n",
       "4                         0                         0                         0                         0                         0                0              0   \n",
       "\n",
       "   NEW_noProt_1  NEW_Young_Not_Engaged_1  NEW_FLAG_ANY_STREAMING_1  NEW_FLAG_AutoPayment_1  \n",
       "0             1                        1                         0                       0  \n",
       "1             1                        0                         0                       0  \n",
       "2             1                        1                         0                       0  \n",
       "3             1                        0                         0                       1  \n",
       "4             1                        1                         0                       0  "
      ]
     },
     "execution_count": 169,
     "metadata": {},
     "output_type": "execute_result"
    }
   ],
   "source": [
    "df.head()"
   ]
  },
  {
   "cell_type": "code",
   "execution_count": 170,
   "metadata": {},
   "outputs": [],
   "source": [
    "# Modelling\n",
    "\n",
    "y = df[\"Churn\"]\n",
    "X = df.drop([\"Churn\",\"customerID\"], axis=1)\n",
    "\n",
    "X_train, X_test, y_train, y_test = train_test_split(X, y, test_size=0.30, random_state=17)\n",
    "\n",
    "catboost_model = CatBoostClassifier(verbose=False, random_state=12345).fit(X_train, y_train)\n",
    "y_pred = catboost_model.predict(X_test)\n"
   ]
  },
  {
   "cell_type": "code",
   "execution_count": 171,
   "metadata": {},
   "outputs": [
    {
     "name": "stdout",
     "output_type": "stream",
     "text": [
      "Accuracy: 0.79\n",
      "Recall: 0.65\n",
      "Precision: 0.5\n",
      "F1: 0.56\n",
      "Auc: 0.74\n"
     ]
    }
   ],
   "source": [
    "print(f\"Accuracy: {round(accuracy_score(y_pred, y_test), 2)}\")\n",
    "print(f\"Recall: {round(recall_score(y_pred,y_test),2)}\")\n",
    "print(f\"Precision: {round(precision_score(y_pred,y_test), 2)}\")\n",
    "print(f\"F1: {round(f1_score(y_pred,y_test), 2)}\")\n",
    "print(f\"Auc: {round(roc_auc_score(y_pred,y_test), 2)}\")"
   ]
  },
  {
   "cell_type": "code",
   "execution_count": null,
   "metadata": {},
   "outputs": [],
   "source": [
    "# Accuracy: 0.8\n",
    "# Recall: 0.66\n",
    "# Precision: 0.51\n",
    "# F1: 0.58\n",
    "# Auc: 0.75\n",
    "\n",
    "# Base Model\n",
    "# # Accuracy: 0.7837\n",
    "# # Recall: 0.6333\n",
    "# # Precision: 0.4843\n",
    "# # F1: 0.5489\n",
    "# # Auc: 0.7282"
   ]
  }
 ],
 "metadata": {
  "kernelspec": {
   "display_name": "Python 3",
   "language": "python",
   "name": "python3"
  },
  "language_info": {
   "codemirror_mode": {
    "name": "ipython",
    "version": 3
   },
   "file_extension": ".py",
   "mimetype": "text/x-python",
   "name": "python",
   "nbconvert_exporter": "python",
   "pygments_lexer": "ipython3",
   "version": "3.8.5"
  }
 },
 "nbformat": 4,
 "nbformat_minor": 4
}
